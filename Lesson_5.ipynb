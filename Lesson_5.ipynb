{
 "cells": [
  {
   "cell_type": "markdown",
   "metadata": {},
   "source": [
    "# Проверка статистических гипотез. Доверительные интервалы. A/B-тестирование"
   ]
  },
  {
   "cell_type": "markdown",
   "metadata": {},
   "source": [
    "__1. Утверждается, что шарики для подшипников, изготовленные автоматическим станком, имеют средний диаметр 17 мм. Используя уровень значимости 0.025 и правостороннюю критическую область, проверить данную гипотезу при условии, что в выборке из 100 шариков средний диаметр оказался равным 17.5 мм, а дисперсия известна и равна 4 мм.__"
   ]
  },
  {
   "cell_type": "markdown",
   "metadata": {},
   "source": [
    "Из условий задачи: $H_0: a = 17 мм,\\quad\\alpha = 0.025,\\quad\\Omega_\\alpha = (t_{1 - \\alpha}, \\infty),\\quad n=100,\\quad a=17.5,\\quad\\sigma^2 = 4 \\Rightarrow\\sigma = 2$\n",
    "\n",
    "Для проверки гипотезы используем следующую статистику: $T(X) = \\dfrac{\\overline{X} - a}{\\sigma / \\sqrt{n}},$ т.к. дисперсия нам известна. Примем, что распределние нормальное и $H_1: a \\ne 17 мм$"
   ]
  },
  {
   "cell_type": "code",
   "execution_count": 1,
   "metadata": {},
   "outputs": [],
   "source": [
    "import numpy as np\n",
    "from scipy import stats"
   ]
  },
  {
   "cell_type": "code",
   "execution_count": 2,
   "metadata": {},
   "outputs": [
    {
     "name": "stdout",
     "output_type": "stream",
     "text": [
      "2.5\n"
     ]
    }
   ],
   "source": [
    "a = 17\n",
    "alpha = 0.025\n",
    "n = 100\n",
    "a_mean = 17.5\n",
    "sigma = 2\n",
    "\n",
    "T = (a_mean - a)/(sigma/np.sqrt(n))\n",
    "print(T)"
   ]
  },
  {
   "cell_type": "markdown",
   "metadata": {},
   "source": [
    "Определим правостороннюю критическую область: $\\Omega_\\alpha = (t_{1 - \\alpha}, \\infty)$"
   ]
  },
  {
   "cell_type": "code",
   "execution_count": 3,
   "metadata": {},
   "outputs": [
    {
     "name": "stdout",
     "output_type": "stream",
     "text": [
      "1.959963984540054 =~ 1.96\n"
     ]
    }
   ],
   "source": [
    "t = stats.norm.ppf(1 - alpha)\n",
    "print(t, '=~', round(t, 3))"
   ]
  },
  {
   "cell_type": "markdown",
   "metadata": {},
   "source": [
    "Т.к. значение статистики $T=2.5$ попадает в критическую область $\\Omega_\\alpha = (1.96, \\infty)$, то верна гипотеза $H_1$"
   ]
  },
  {
   "cell_type": "markdown",
   "metadata": {},
   "source": [
    "__2. Известно, что генеральная совокупность распределена нормально с известным средним квадратическим отклонением 16. Найти доверительный интервал для оценки математического ожидания a с надёжностью 0.95, если выборочное среднее равно 80, а объём равен 256.__"
   ]
  },
  {
   "cell_type": "markdown",
   "metadata": {},
   "source": [
    "Из условий задачи: $\\sigma = 16,\\quad p=0.95,\\quad\\overline{X}=80,\\quad n=256$\n",
    "\n",
    "Построим доверительный интервал с помощью квантилей стандартного распределения, т.к. дисперсия нам известна $(\\sigma^2)$\n",
    "$\n",
    "P \\left(\n",
    "    \\overline{X} - t_{1 - \\alpha / 2} \\cdot \\dfrac{\\sigma}{\\sqrt{n}}\n",
    "    \\leq a \\leq \n",
    "    \\overline{X} + t_{1 - \\alpha / 2} \\cdot \\dfrac{\\sigma}{\\sqrt{n}}\n",
    "\\right) = p.\n",
    "$"
   ]
  },
  {
   "cell_type": "code",
   "execution_count": 4,
   "metadata": {},
   "outputs": [
    {
     "name": "stdout",
     "output_type": "stream",
     "text": [
      "1.959963984540054\n"
     ]
    }
   ],
   "source": [
    "sigma = 16\n",
    "p = 0.95\n",
    "alpha = 1 - p\n",
    "a_mean = 80\n",
    "n = 256\n",
    "\n",
    "t = stats.norm.ppf(1 - alpha / 2)\n",
    "print(t)"
   ]
  },
  {
   "cell_type": "code",
   "execution_count": 5,
   "metadata": {},
   "outputs": [
    {
     "name": "stdout",
     "output_type": "stream",
     "text": [
      "Мат.ожидание в интервале (78.04003601545995, 81.95996398454005) с вероятностью 0.95\n"
     ]
    }
   ],
   "source": [
    "print(f'Мат.ожидание в интервале {a_mean - t * sigma / np.sqrt(n), a_mean + t * sigma / np.sqrt(n)} с вероятностью {p}')"
   ]
  },
  {
   "cell_type": "markdown",
   "metadata": {},
   "source": [
    "__3. Продавец утверждает, что средний вес пачки печенья составляет 200 г. Из партии извлечена выборка из 10 пачек. Вес каждой пачки составляет:__\n",
    "\n",
    "__202, 203, 199, 197, 195, 201, 200, 204, 194, 190__\n",
    "\n",
    "__Известно, что их веса распределены нормально. Верно ли утверждение продавца, если учитывать, что уровень значимости равен 1%?__"
   ]
  },
  {
   "cell_type": "markdown",
   "metadata": {},
   "source": [
    "Из условий задачи: $H_0: a = 200 г,\\quad n=10,\\quad\\alpha = 0.01$\n",
    "\n",
    "Для проверки гипотезы используем следующую статистику: $T(X) = \\dfrac{\\overline{X} - a}{\\sigma_X / \\sqrt{n}},$ т.к. дисперсия нам неизвестна, следовательно критическая область $\\Omega_\\alpha =\\left( -\\infty, - t_{1 -\\alpha/2,\\: n - 1}\\right)\\cup\\left( t_{1 -\\alpha/2,\\: n - 1},\\infty\\right)$. И примем $H_1: a \\ne 200 г$"
   ]
  },
  {
   "cell_type": "code",
   "execution_count": 6,
   "metadata": {},
   "outputs": [
    {
     "name": "stdout",
     "output_type": "stream",
     "text": [
      "-1.0651074037450896\n"
     ]
    }
   ],
   "source": [
    "samples = (202, 203, 199, 197, 195, 201, 200, 204, 194, 190)\n",
    "a = 200\n",
    "alpha = 0.01\n",
    "n = 10\n",
    "\n",
    "X_mean = np.mean(samples)\n",
    "sigma_unb = np.std(samples, ddof=1) #несмещённая оценка среднего квадратического отклонения\n",
    "T = (X_mean - a)/(sigma_unb/np.sqrt(n))\n",
    "print(T)"
   ]
  },
  {
   "cell_type": "markdown",
   "metadata": {},
   "source": [
    "Определим критическую область"
   ]
  },
  {
   "cell_type": "code",
   "execution_count": 7,
   "metadata": {},
   "outputs": [
    {
     "name": "stdout",
     "output_type": "stream",
     "text": [
      "3.2498355440153697 =~ 3.25\n"
     ]
    }
   ],
   "source": [
    "t = stats.t.ppf(1 - alpha / 2, df=n - 1)\n",
    "print(t, \"=~\", round(t, 3))"
   ]
  },
  {
   "cell_type": "markdown",
   "metadata": {},
   "source": [
    "Т.к. гипотеза $H_0$ не входит в критическую область $\\Omega_\\alpha =\\left( -\\infty, - 3.25\\right)\\cup\\left(3.25,\\infty\\right)$,\n",
    "то она скорее всего верна."
   ]
  }
 ],
 "metadata": {
  "kernelspec": {
   "display_name": "Python 3",
   "language": "python",
   "name": "python3"
  },
  "language_info": {
   "codemirror_mode": {
    "name": "ipython",
    "version": 3
   },
   "file_extension": ".py",
   "mimetype": "text/x-python",
   "name": "python",
   "nbconvert_exporter": "python",
   "pygments_lexer": "ipython3",
   "version": "3.7.3"
  }
 },
 "nbformat": 4,
 "nbformat_minor": 2
}
