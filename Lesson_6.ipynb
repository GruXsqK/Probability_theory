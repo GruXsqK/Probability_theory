{
 "cells": [
  {
   "cell_type": "markdown",
   "metadata": {},
   "source": [
    "# Взаимосвязь величин. Показатели корреляции. Корреляционный анализ. Проверка на нормальность"
   ]
  },
  {
   "cell_type": "markdown",
   "metadata": {},
   "source": [
    "__1. Даны значения величины заработной платы заемщиков банка (salary) и значения их поведенческого кредитного скоринга (scoring):__\n",
    "\n",
    "__salary = [35, 45, 190, 200, 40, 70, 54, 150, 120, 110]\n",
    "scoring = [401, 574, 874, 919, 459, 739, 653, 902, 746, 832]__\n",
    "\n",
    "__Без использования сторонних библиотек (вроде numpy, pandas и др.) найдите:__\n",
    "__1. ковариацию (смещённую и несмещённую) этих двух величин,__\n",
    "__2. коэффициент корреляции Пирсона.__\n",
    "\n",
    "__Можно затем посчитать те же значения с использованием библиотек, чтобы проверить себя.__"
   ]
  },
  {
   "cell_type": "code",
   "execution_count": 1,
   "metadata": {},
   "outputs": [],
   "source": [
    "def my_std(lst, mean_lst, unb=True):\n",
    "    \n",
    "    std = 0\n",
    "    flag=1 if unb else 0\n",
    "    \n",
    "    for itm in lst:\n",
    "        std += (itm - mean_lst)**2\n",
    "    \n",
    "    return (std/(len(lst) - flag))**0.5\n",
    "\n",
    "\n",
    "def my_cov(lst_1, mean_lst_1, lst_2, mean_lst_2, unb=True):\n",
    "    \n",
    "    cov = 0\n",
    "    flag=1 if unb else 0\n",
    "    len_lst = len(lst_1) if len(lst_1)<len(lst_2) else len(lst_2) \n",
    "    \n",
    "    for i in range(len_lst):\n",
    "        cov += (lst_1[i] - mean_lst_1)*(lst_2[i] - mean_lst_2)\n",
    "        \n",
    "    return cov/(len_lst - flag)"
   ]
  },
  {
   "cell_type": "markdown",
   "metadata": {},
   "source": [
    "Несмещенную ковариацию посчитаем по формуле: $\\sigma_{xy} = \\dfrac{1}{n - 1} \\displaystyle\\sum_{i = 1}^n (x_i - \\overline{x}) \\cdot (y_i - \\overline{y})$.\n",
    "\n",
    "В формулу для смещенной ковариации вместо $n-1$ в знаменатель подставим $n$.\n",
    "\n",
    "Для расчета коэффициента корреляции Пирсона воспользуемся формулой: $r_{XY} = \\dfrac{\\sigma_{xy}}{\\sigma_X \\cdot \\sigma_Y}$."
   ]
  },
  {
   "cell_type": "code",
   "execution_count": 2,
   "metadata": {},
   "outputs": [
    {
     "name": "stdout",
     "output_type": "stream",
     "text": [
      "1) Смещенная ковариация: 9157.84\n",
      "   Несмещенная ковариация: 10175.377777777778\n",
      "2) Коэффициент корреляции Пирсона: 0.8874900920739162\n"
     ]
    }
   ],
   "source": [
    "salary = [35, 45, 190, 200, 40, 70, 54, 150, 120, 110]\n",
    "scoring = [401, 574, 874, 919, 459, 739, 653, 902, 746, 832]\n",
    "\n",
    "mean_salary = sum(salary)/len(salary)\n",
    "mean_scoring = sum(scoring)/len(scoring)\n",
    "\n",
    "print(f\"\"\"1) Смещенная ковариация: {my_cov(salary, mean_salary, scoring, mean_scoring, unb=False)}\n",
    "   Несмещенная ковариация: {my_cov(salary, mean_salary, scoring, mean_scoring)}\n",
    "2) Коэффициент корреляции Пирсона: {my_cov(salary, mean_salary, scoring, mean_scoring)/\n",
    "(my_std(salary, mean_salary)*my_std(scoring, mean_scoring))}\"\"\")"
   ]
  },
  {
   "cell_type": "code",
   "execution_count": 3,
   "metadata": {},
   "outputs": [
    {
     "name": "stdout",
     "output_type": "stream",
     "text": [
      "Проверки:\n",
      "1) Смещенная ковариация: 9157.84\n",
      "   Несмещенная ковариация: 10175.377777777776\n",
      "2) Коэффициент корреляции Пирсона: 0.8874900920739162\n"
     ]
    }
   ],
   "source": [
    "import numpy as np\n",
    "\n",
    "print(f\"\"\"Проверки:\n",
    "1) Смещенная ковариация: {np.cov(salary, scoring, ddof=0)[0,1]}\n",
    "   Несмещенная ковариация: {np.cov(salary, scoring, ddof=1)[0,1]}\n",
    "2) Коэффициент корреляции Пирсона: {np.corrcoef(salary, scoring)[0,1]}\"\"\")"
   ]
  },
  {
   "cell_type": "markdown",
   "metadata": {},
   "source": [
    "__2. Измерены значения IQ выборки студентов, обучающихся в местных технических вузах:__\n",
    "\n",
    "__131, 125, 115, 122, 131, 115, 107, 99, 125, 111__\n",
    "\n",
    "__Известно, что в генеральной совокупности IQ распределен нормально. Найдите доверительный интервал для математического ожидания с надежностью 0.95.__"
   ]
  },
  {
   "cell_type": "markdown",
   "metadata": {},
   "source": [
    "Т.к. дисперсия нам неизвестна, воспользуемся t-распределением."
   ]
  },
  {
   "cell_type": "code",
   "execution_count": 4,
   "metadata": {},
   "outputs": [],
   "source": [
    "from scipy import stats"
   ]
  },
  {
   "cell_type": "code",
   "execution_count": 5,
   "metadata": {},
   "outputs": [
    {
     "name": "stdout",
     "output_type": "stream",
     "text": [
      "(110.55608365158724, 125.64391634841274)\n"
     ]
    }
   ],
   "source": [
    "IQ = [131, 125, 115, 122, 131, 115, 107, 99, 125, 111]\n",
    "p = 0.95\n",
    "\n",
    "t = stats.t.ppf(1 - (1 - p) / 2, df=len(IQ) - 1)\n",
    "print((np.mean(IQ) - t * np.std(IQ, ddof=1) / np.sqrt(len(IQ)), np.mean(IQ) + t * np.std(IQ, ddof=1) / np.sqrt(len(IQ))))"
   ]
  },
  {
   "cell_type": "markdown",
   "metadata": {},
   "source": [
    "__3. Известно, что рост футболистов в сборной распределён нормально с известной дисперсией 25. На выборке объёма 27 выборочное среднее составило 174.2. Найдите доверительный интервал для математического ожидания с надёжностью 0.95.__"
   ]
  },
  {
   "cell_type": "code",
   "execution_count": 6,
   "metadata": {},
   "outputs": [
    {
     "name": "stdout",
     "output_type": "stream",
     "text": [
      "(172.3140237765397, 176.08597622346028)\n"
     ]
    }
   ],
   "source": [
    "sigma = np.sqrt(25)\n",
    "n = 27\n",
    "X_mean = 174.2\n",
    "p = 0.95\n",
    "\n",
    "t_n = stats.norm.ppf(1 - (1 - p) / 2)\n",
    "print((X_mean - t_n * sigma / np.sqrt(n), X_mean + t_n * sigma / np.sqrt(n)))"
   ]
  }
 ],
 "metadata": {
  "kernelspec": {
   "display_name": "Python 3",
   "language": "python",
   "name": "python3"
  },
  "language_info": {
   "codemirror_mode": {
    "name": "ipython",
    "version": 3
   },
   "file_extension": ".py",
   "mimetype": "text/x-python",
   "name": "python",
   "nbconvert_exporter": "python",
   "pygments_lexer": "ipython3",
   "version": "3.7.3"
  }
 },
 "nbformat": 4,
 "nbformat_minor": 2
}
