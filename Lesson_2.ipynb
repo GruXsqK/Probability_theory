{
 "cells": [
  {
   "cell_type": "markdown",
   "metadata": {},
   "source": [
    "# Дискретные случайные величины. Закон распределения вероятностей. Биномиальный закон распределения. Распределение Пуассона"
   ]
  },
  {
   "cell_type": "markdown",
   "metadata": {},
   "source": [
    "__1. Контрольная работа состоит из пяти вопросов. На каждый вопрос приведено четыре варианта ответа, один из которых правильный. Составьте закон распределения числа правильных ответов при простом угадывании. Найдите M(X), D(X).__"
   ]
  },
  {
   "cell_type": "markdown",
   "metadata": {},
   "source": [
    "Вероятность ответить верно на $k$ вопросов из $n$: $P(X=k)=C^k_n*p^k*(1-p)^{n-k}$, где $p=\\dfrac{1}{4}$ (шанс ответить на один вопрос из $4$ вариантов ответа)\n",
    "\n",
    "Посчитаем $P(X=k)$ для $k=0,1,2,3,4,5$"
   ]
  },
  {
   "cell_type": "code",
   "execution_count": 1,
   "metadata": {},
   "outputs": [],
   "source": [
    "import numpy as np\n",
    "\n",
    "def comb(n, k):\n",
    "    return np.math.factorial(n) / (np.math.factorial(k) * np.math.factorial(n - k))"
   ]
  },
  {
   "cell_type": "code",
   "execution_count": 2,
   "metadata": {},
   "outputs": [
    {
     "name": "stdout",
     "output_type": "stream",
     "text": [
      "0.2373046875 0.3955078125 0.263671875 0.087890625 0.0146484375 0.0009765625\n",
      "Проверка:True\n"
     ]
    }
   ],
   "source": [
    "n = 5\n",
    "k = range(0, 6)\n",
    "P = np.zeros((6,))\n",
    "for elm in k:\n",
    "    P[elm] = comb(n, elm)*0.25**elm*(1-0.25)**(n-elm)\n",
    "print(*P)\n",
    "print(f'Проверка:{P.sum()==1}')"
   ]
  },
  {
   "cell_type": "markdown",
   "metadata": {},
   "source": [
    "<table>\n",
    "<tr><th>$x$</th><td>0</td><td>1</td><td>2</td><td>3</td><td>4</td><td>5</td></tr>\n",
    "<tr><th>$P(X=x)$</th><td>$0.2373046875$</td><td>$0.3955078125$</td><td>$0.263671875$</td><td>$0.087890625$</td><td>$0.0146484375$</td><td>$0.0009765625$</td></tr>\n",
    "</table>"
   ]
  },
  {
   "cell_type": "markdown",
   "metadata": {},
   "source": [
    "Найдем мат.ожидание: $M(X) = \\sum x_ip_i$ и дисперсию $D(X) = M \\left( (X - M(X))^2 \\right)$"
   ]
  },
  {
   "cell_type": "code",
   "execution_count": 3,
   "metadata": {},
   "outputs": [
    {
     "name": "stdout",
     "output_type": "stream",
     "text": [
      "Мат.ожидание = 1.25\n",
      "Дисперсия = 0.9375\n"
     ]
    }
   ],
   "source": [
    "M = np.dot(k, P).sum()\n",
    "print(f\"Мат.ожидание = {M}\")\n",
    "D = np.dot((k - M)**2, P).sum()\n",
    "print(f\"Дисперсия = {D}\")"
   ]
  },
  {
   "cell_type": "markdown",
   "metadata": {},
   "source": [
    "__2. Вероятность попадания в цель при одном выстреле равна 0.01. Какова вероятность того, что число попаданий при 200 выстрелах будет не менее 5 и не более 10?__"
   ]
  },
  {
   "cell_type": "markdown",
   "metadata": {},
   "source": [
    "По формуле Бернулли находим вероятности для каждого количества попаданий от $5$ до $10$ (т.к. искомое количество попаданий $x \\in [5, 10]$) и суммируем их"
   ]
  },
  {
   "cell_type": "code",
   "execution_count": 4,
   "metadata": {},
   "outputs": [
    {
     "name": "stdout",
     "output_type": "stream",
     "text": [
      "P = 0.051739381860374606 = 5.173938%\n"
     ]
    }
   ],
   "source": [
    "n = 200\n",
    "p = 0.01\n",
    "P = 0\n",
    "k_st = 5\n",
    "k_fn = 10\n",
    "\n",
    "for elm in range(k_st, k_fn+1):\n",
    "    P += comb(n, elm)*p**elm*(1-p)**(n-elm)\n",
    "    \n",
    "print(f\"P = {P} = {P:%}\")"
   ]
  },
  {
   "cell_type": "markdown",
   "metadata": {},
   "source": [
    "__3. В условиях предыдущей задачи сколько выстрелов нужно сделать чтобы быть уверенным с вероятностью 0.9, что хотя бы 10 раз будет совершено попадание?__\n",
    "\n",
    "__Подсказка. Как посчитать P(X >= k) для величины X, имеющей распределение Пуассона? Здесь предстоит немножко покодить.__"
   ]
  },
  {
   "cell_type": "markdown",
   "metadata": {},
   "source": [
    "Необходимо найти количество выстрелов $(n)$, при котором сумма вероятностей всех возможных попаданий $(k_i)$ строго больше $9$ раз, будет больше или равна $0.9$. Формула Пуассона $P(X = k) = \\dfrac{a^k e ^{-a}}{k!}$, где $a=np$."
   ]
  },
  {
   "cell_type": "code",
   "execution_count": 5,
   "metadata": {},
   "outputs": [
    {
     "name": "stdout",
     "output_type": "stream",
     "text": [
      "Количество выстрелов : 1421\n"
     ]
    }
   ],
   "source": [
    "k = 10\n",
    "n = 10\n",
    "p = 0.01\n",
    "\n",
    "while True:\n",
    "    P = 0\n",
    "    \n",
    "    for k_i in range(k, n+1):\n",
    "        try:\n",
    "            P_i = ((n*p)**k_i)*np.exp(-n*p)/np.math.factorial(k_i)\n",
    "        except OverflowError:\n",
    "            P_i = 0\n",
    "        P += P_i\n",
    "        \n",
    "    if P >= 0.9:\n",
    "        break\n",
    "    n += 1\n",
    "        \n",
    "print(f'Количество выстрелов : {n}')"
   ]
  }
 ],
 "metadata": {
  "kernelspec": {
   "display_name": "Python 3",
   "language": "python",
   "name": "python3"
  },
  "language_info": {
   "codemirror_mode": {
    "name": "ipython",
    "version": 3
   },
   "file_extension": ".py",
   "mimetype": "text/x-python",
   "name": "python",
   "nbconvert_exporter": "python",
   "pygments_lexer": "ipython3",
   "version": "3.7.3"
  }
 },
 "nbformat": 4,
 "nbformat_minor": 2
}
