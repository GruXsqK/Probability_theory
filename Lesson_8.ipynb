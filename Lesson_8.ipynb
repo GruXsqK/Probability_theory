{
 "cells": [
  {
   "cell_type": "markdown",
   "metadata": {},
   "source": [
    "# Двухфакторный дисперсионный анализ. Факторный анализ. Логистическая регрессия"
   ]
  },
  {
   "cell_type": "markdown",
   "metadata": {},
   "source": [
    "__1. Объясняемая переменная y зависит от двух категориальных факторов A и B, причём фактор A имеет 3 уровня, а фактор B - 4 уровня. Результаты наблюдений приведены в таблице:__\n",
    "\n",
    "__y = [[2.68, 3.29, 2.88, 4.45],\n",
    "     [4.12, 4.96, 5.09, 5.22],\n",
    "     [5.52, 4.50, 5.42, 5.29]]__\n",
    "\n",
    "__С помощью двухфакторного дисперсионного анализа проверьте влияние каждого из факторов на переменную y.__"
   ]
  },
  {
   "cell_type": "code",
   "execution_count": 1,
   "metadata": {},
   "outputs": [],
   "source": [
    "import numpy as np\n",
    "from scipy import stats"
   ]
  },
  {
   "cell_type": "markdown",
   "metadata": {},
   "source": [
    "Примем следующие гипотезы:$H_{0A}: \\: \\overline{y_{1 \\ast}} = \\dots = \\overline{y_{m \\ast}}, \\:\n",
    "H_{0B}: \\: \\overline{y_{\\ast 1}} = \\dots = \\overline{y_{\\ast k}}.$"
   ]
  },
  {
   "cell_type": "code",
   "execution_count": 2,
   "metadata": {},
   "outputs": [
    {
     "name": "stdout",
     "output_type": "stream",
     "text": [
      "S2_A = 5.880537499999999\n",
      "S2_B = 1.7842222222222253\n",
      "S2_res = 1.9298833333333327\n",
      "\n",
      "T_A = 6.094189631497587\n",
      "T_B = 2.77357007763855\n",
      "\n",
      "F_crit_A = 4.06618055135116\n",
      "F_crit_B = 4.25649472909375\n",
      "\n",
      "Гипотезу H_0A отвергаем\n",
      "Гипотезу H_0B принимаем\n"
     ]
    }
   ],
   "source": [
    "y = np.array([[2.68, 3.29, 2.88, 4.45], [4.12, 4.96, 5.09, 5.22], [5.52, 4.50, 5.42, 5.29]])\n",
    "\n",
    "k = 3 # уровни фактора A\n",
    "m = 4 # уровни фактора B\n",
    "\n",
    "S2_A = k*((y.mean(axis=1) - y.mean())**2).sum() # суммы квадратов отклонений\n",
    "S2_B = m*((y.mean(axis=0) - y.mean())**2).sum()\n",
    "\n",
    "S2_res = 0\n",
    "for i in range(k):\n",
    "    for j in range(m):\n",
    "        S2_res += (y[i,j] - y.mean(axis=1)[i] - y.mean(axis=0)[j] + y.mean())**2\n",
    "        \n",
    "sigma2_A = S2_A/(m - 1) # оценки дисперсии\n",
    "sigma2_B = S2_B/(k - 1)\n",
    "sigma2_res = S2_res/((k - 1)*(m - 1))\n",
    "\n",
    "T_A = sigma2_A/sigma2_res # статистики\n",
    "T_B = sigma2_B/sigma2_res\n",
    "\n",
    "alpha = 0.05 # уровень значимости\n",
    "\n",
    "F_crit_A = stats.f.ppf(1 - alpha, m - 1, k*m - m)\n",
    "F_crit_B = stats.f.ppf(1 - alpha, k - 1, k*m - k)\n",
    "\n",
    "print(f\"\"\"S2_A = {S2_A}\n",
    "S2_B = {S2_B}\n",
    "S2_res = {S2_res}\\n\n",
    "T_A = {T_A}\n",
    "T_B = {T_B}\\n\n",
    "F_crit_A = {F_crit_A}\n",
    "F_crit_B = {F_crit_B}\\n\n",
    "Гипотезу H_0A {'отвергаем' if T_A>F_crit_A else 'принимаем'}\n",
    "Гипотезу H_0B {'отвергаем' if T_B>F_crit_B else 'принимаем'}\"\"\")"
   ]
  },
  {
   "cell_type": "markdown",
   "metadata": {},
   "source": [
    "__2. С помощью критерия Стьюдента для двух независимых выборок проверьте гипотезу о равенстве среднего роста футболистов и хоккеистов, основываясь на результатах измерений:__\n",
    "\n",
    "__football_players = [173, 175, 180, 178, 177, 185, 183, 182]\n",
    "hockey_players = [177, 179, 180, 188, 177, 172, 171, 184, 180]__"
   ]
  },
  {
   "cell_type": "code",
   "execution_count": 3,
   "metadata": {},
   "outputs": [
    {
     "name": "stdout",
     "output_type": "stream",
     "text": [
      "T = 0.19928601397363732\n",
      "Критическая область: (-inf, -2.131449545559323) U (2.131449545559323, inf)\n",
      "\n",
      "Гипотеза о равенстве среднего роста футболистов и хоккеистов не опровергнута, т.к. статистика вне критической области\n"
     ]
    }
   ],
   "source": [
    "F = football_players = np.array([173, 175, 180, 178, 177, 185, 183, 182])\n",
    "H = hockey_players = np.array([177, 179, 180, 188, 177, 172, 171, 184, 180])\n",
    "\n",
    "alpha = 0.05\n",
    "\n",
    "T = (F.mean() - H.mean())/np.sqrt(F.var(ddof=1)/len(F) + H.var(ddof=1)/len(H))\n",
    "t = stats.t.ppf(1 - alpha / 2, df=len(F) + len(H) - 2)\n",
    "print(f'T = {T}\\nКритическая область: (-inf, {-t}) U ({t}, inf)\\n')\n",
    "print('Гипотеза о равенстве среднего роста футболистов и хоккеистов не опровергнута, т.к. статистика вне критической области')"
   ]
  }
 ],
 "metadata": {
  "kernelspec": {
   "display_name": "Python 3",
   "language": "python",
   "name": "python3"
  },
  "language_info": {
   "codemirror_mode": {
    "name": "ipython",
    "version": 3
   },
   "file_extension": ".py",
   "mimetype": "text/x-python",
   "name": "python",
   "nbconvert_exporter": "python",
   "pygments_lexer": "ipython3",
   "version": "3.7.3"
  }
 },
 "nbformat": 4,
 "nbformat_minor": 2
}
